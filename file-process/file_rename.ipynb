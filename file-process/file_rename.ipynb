{
 "cells": [
  {
   "cell_type": "markdown",
   "metadata": {},
   "source": [
    "### Rename files into the given sequence format"
   ]
  },
  {
   "cell_type": "code",
   "execution_count": 4,
   "metadata": {},
   "outputs": [],
   "source": [
    "import os\n",
    "import shutil"
   ]
  },
  {
   "cell_type": "code",
   "execution_count": 5,
   "metadata": {},
   "outputs": [],
   "source": [
    "def rename_files(input_path, desti_path, start_index, prefix_name, file_ext):\n",
    "\n",
    "    for current_name in os.listdir(input_path):\n",
    "        \n",
    "        file_id = \"{}_{:03d}.{}\".format(prefix_name,start_index,file_ext)\n",
    "        origin_name = input_path+\"\\\\\"+current_name\n",
    "\n",
    "        re_name = desti_path+\"\\\\\"+file_id\n",
    "        shutil.move(origin_name, re_name)\n",
    "        \n",
    "        start_index = start_index+1\n",
    "    print(\"Done : file moving\")\n",
    "    "
   ]
  },
  {
   "cell_type": "code",
   "execution_count": 6,
   "metadata": {},
   "outputs": [],
   "source": [
    "input_path = r\"origin_dir\" # your files' directory \n",
    "file_ext = \"txt\" # file format\n",
    "destination_path = r'target_dir' # the directory to save renamed files\n",
    "\n",
    "start_index = 1\n",
    "prefix_name = \"txt_file_\" # you can set anything "
   ]
  },
  {
   "cell_type": "code",
   "execution_count": 9,
   "metadata": {},
   "outputs": [
    {
     "name": "stdout",
     "output_type": "stream",
     "text": [
      "txt_file__001.txt\n"
     ]
    }
   ],
   "source": [
    "\n",
    "file_id = \"{}_{:03d}.{}\".format(prefix_name,start_index,file_ext)\n",
    "print(file_id)"
   ]
  },
  {
   "cell_type": "code",
   "execution_count": 8,
   "metadata": {},
   "outputs": [
    {
     "name": "stdout",
     "output_type": "stream",
     "text": [
      "Done : file moving\n"
     ]
    }
   ],
   "source": [
    "rename_files(input_path, destination_path, start_index, prefix_name, file_ext)\n"
   ]
  }
 ],
 "metadata": {
  "interpreter": {
   "hash": "f797ac37034d52c03b308c74c32c2a757b1326bf07c7371d761b7657b50446da"
  },
  "kernelspec": {
   "display_name": "Python 3.8.10 64-bit",
   "language": "python",
   "name": "python3"
  },
  "language_info": {
   "codemirror_mode": {
    "name": "ipython",
    "version": 3
   },
   "file_extension": ".py",
   "mimetype": "text/x-python",
   "name": "python",
   "nbconvert_exporter": "python",
   "pygments_lexer": "ipython3",
   "version": "3.8.10"
  },
  "orig_nbformat": 4
 },
 "nbformat": 4,
 "nbformat_minor": 2
}
