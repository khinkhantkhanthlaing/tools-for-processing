{
 "cells": [
  {
   "cell_type": "markdown",
   "metadata": {},
   "source": [
    "### Tool for file read and write"
   ]
  },
  {
   "cell_type": "code",
   "execution_count": 13,
   "metadata": {},
   "outputs": [],
   "source": [
    "def read_text(file_name):\n",
    "    # read text from test.txt\n",
    "    \n",
    "    file = open(file_name, 'r',encoding = 'utf-8')\n",
    "    text = file.read()\n",
    "    print('Done data reading')\n",
    "    return text\n"
   ]
  },
  {
   "cell_type": "code",
   "execution_count": 14,
   "metadata": {},
   "outputs": [],
   "source": [
    "def write_files(file_name, data):\n",
    "    # write text into the target txt file\n",
    "\n",
    "    file = open(file_name, 'w',encoding = 'utf-8')\n",
    "    file.write(data)\n",
    "    file.close\n",
    "    print('Done data writing')\n",
    "    "
   ]
  },
  {
   "cell_type": "code",
   "execution_count": 15,
   "metadata": {},
   "outputs": [],
   "source": [
    "def append_files(file_name, data):\n",
    "    # append text in new line into the target txt file\n",
    "\n",
    "    file = open(file_name, 'a+',encoding = 'utf-8')\n",
    "    file.seek(0)\n",
    "    read_data = file.read(10)\n",
    "    if len(read_data) > 0:\n",
    "        file.write(\"\\n\")\n",
    "\n",
    "    file.write(data)\n",
    "    file.close\n",
    "    print('Done data appending')"
   ]
  },
  {
   "cell_type": "code",
   "execution_count": 16,
   "metadata": {},
   "outputs": [
    {
     "name": "stdout",
     "output_type": "stream",
     "text": [
      "Done data reading\n",
      "Done data writing\n",
      "Done data appending\n"
     ]
    }
   ],
   "source": [
    "file_name = r'text.txt'\n",
    "text = read_text(file_name)\n",
    "\n",
    "write_files('output.txt', text)\n",
    "append_files('output.txt', text)\n"
   ]
  }
 ],
 "metadata": {
  "interpreter": {
   "hash": "f797ac37034d52c03b308c74c32c2a757b1326bf07c7371d761b7657b50446da"
  },
  "kernelspec": {
   "display_name": "Python 3.8.10 64-bit",
   "language": "python",
   "name": "python3"
  },
  "language_info": {
   "codemirror_mode": {
    "name": "ipython",
    "version": 3
   },
   "file_extension": ".py",
   "mimetype": "text/x-python",
   "name": "python",
   "nbconvert_exporter": "python",
   "pygments_lexer": "ipython3",
   "version": "3.8.10"
  },
  "orig_nbformat": 4
 },
 "nbformat": 4,
 "nbformat_minor": 2
}
