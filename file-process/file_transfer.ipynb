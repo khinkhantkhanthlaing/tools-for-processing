{
 "cells": [
  {
   "cell_type": "markdown",
   "metadata": {},
   "source": [
    "### Move files from one directory into another directory"
   ]
  },
  {
   "cell_type": "code",
   "execution_count": 10,
   "metadata": {},
   "outputs": [],
   "source": [
    "import os\n",
    "import shutil"
   ]
  },
  {
   "cell_type": "code",
   "execution_count": 11,
   "metadata": {},
   "outputs": [],
   "source": [
    "def move_file(origin_path, desti_path):\n",
    "  \"\"\"\n",
    "  -get the files of the given path and move the files in the destination path.\n",
    "  \"\"\"\n",
    "\n",
    "  files = os.listdir(origin_path)\n",
    "  print(\"length of all files : \", len(files))\n",
    "  print(files)\n",
    "  for file in files:\n",
    "    shutil.move(f'{origin_path}\\{file}', desti_path)\n",
    "  "
   ]
  },
  {
   "cell_type": "code",
   "execution_count": 12,
   "metadata": {},
   "outputs": [
    {
     "name": "stdout",
     "output_type": "stream",
     "text": [
      "length of all files :  2\n",
      "['text copy.txt', 'text.txt']\n"
     ]
    }
   ],
   "source": [
    "parent_path = r\"1\"  # your directory path\n",
    "destinate_path = r\"2\" # destination directory path\n",
    "\n",
    "move_file(parent_path, destinate_path)"
   ]
  }
 ],
 "metadata": {
  "interpreter": {
   "hash": "f797ac37034d52c03b308c74c32c2a757b1326bf07c7371d761b7657b50446da"
  },
  "kernelspec": {
   "display_name": "Python 3.8.10 64-bit",
   "language": "python",
   "name": "python3"
  },
  "language_info": {
   "codemirror_mode": {
    "name": "ipython",
    "version": 3
   },
   "file_extension": ".py",
   "mimetype": "text/x-python",
   "name": "python",
   "nbconvert_exporter": "python",
   "pygments_lexer": "ipython3",
   "version": "3.8.10"
  },
  "orig_nbformat": 4
 },
 "nbformat": 4,
 "nbformat_minor": 2
}
