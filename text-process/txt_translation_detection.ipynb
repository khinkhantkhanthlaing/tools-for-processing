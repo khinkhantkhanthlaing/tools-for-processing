{
 "cells": [
  {
   "cell_type": "markdown",
   "metadata": {},
   "source": [
    "### Tool for language translation and detection"
   ]
  },
  {
   "cell_type": "code",
   "execution_count": 12,
   "metadata": {},
   "outputs": [],
   "source": [
    "#import required library\n",
    "\n",
    "from googletrans import Translator"
   ]
  },
  {
   "cell_type": "code",
   "execution_count": 13,
   "metadata": {},
   "outputs": [],
   "source": [
    "def translate_language(input_text, target_language):\n",
    "    \"\"\"\n",
    "    -to translate the input string into target language\n",
    "    -return translated language\n",
    "    \"\"\"\n",
    "    translator = Translator()\n",
    "    try:\n",
    "        translation = translator.translate(input_text, dest=target_language).text\n",
    "        return translation\n",
    "    except:\n",
    "        print(\"Error in Translation\")\n",
    "        return None\n",
    "    "
   ]
  },
  {
   "cell_type": "code",
   "execution_count": 17,
   "metadata": {},
   "outputs": [
    {
     "name": "stdout",
     "output_type": "stream",
     "text": [
      "This is for testing. ___Translated into____ဒါကစမ်းသပ်ခြင်းအတွက်ဖြစ်သည်။\n",
      "\n",
      "ဒါက စမ်းသပ်ဖို့ပါ။ ___Translated into____This is to test.\n",
      "\n",
      "これはテスト用です。 ___Translated into____This is for testing.\n"
     ]
    }
   ],
   "source": [
    "text_1 = 'This is for testing.'\n",
    "text_2 = 'ဒါက စမ်းသပ်ဖို့ပါ။'\n",
    "text_3 = 'これはテスト用です。'\n",
    "\n",
    "translated_1 = translate_language(text_1, 'my')\n",
    "print(f\"{text_1} ___Translated into____{translated_1}\")\n",
    "print()\n",
    "translated_2 = translate_language(text_2, 'EN')\n",
    "print(f\"{text_2} ___Translated into____{translated_2}\")\n",
    "print()\n",
    "translated_3 = translate_language(text_3, 'EN')\n",
    "print(f\"{text_3} ___Translated into____{translated_3}\")"
   ]
  },
  {
   "cell_type": "code",
   "execution_count": 15,
   "metadata": {},
   "outputs": [],
   "source": [
    "def detect_language(input_text):\n",
    "    \"\"\"\n",
    "    - to detect the language of input string by using googletrans library\n",
    "    - return detected language\n",
    "    \"\"\"\n",
    "\n",
    "    translate = Translator()\n",
    "    try:\n",
    "        return translate.detect(input_text).lang \n",
    "    except:\n",
    "        print(\"Error in Detection\")\n",
    "        return None"
   ]
  },
  {
   "cell_type": "code",
   "execution_count": 16,
   "metadata": {},
   "outputs": [
    {
     "name": "stdout",
     "output_type": "stream",
     "text": [
      "This is for testing. : en\n",
      "ဒါက စမ်းသပ်ဖို့ပါ။ : my\n",
      "これはテスト用です。 : ja\n"
     ]
    }
   ],
   "source": [
    "text_1 = 'This is for testing.'\n",
    "text_2 = 'ဒါက စမ်းသပ်ဖို့ပါ။'\n",
    "text_3 = 'これはテスト用です。'\n",
    "\n",
    "detected_1 = detect_language(text_1)\n",
    "detected_2 = detect_language(text_2)\n",
    "detected_3 = detect_language(text_3)\n",
    "\n",
    "print(f'{text_1} : {detected_1}')\n",
    "print(f'{text_2} : {detected_2}')\n",
    "print(f'{text_3} : {detected_3}')\n",
    "\n"
   ]
  }
 ],
 "metadata": {
  "interpreter": {
   "hash": "f797ac37034d52c03b308c74c32c2a757b1326bf07c7371d761b7657b50446da"
  },
  "kernelspec": {
   "display_name": "Python 3.8.10 64-bit",
   "language": "python",
   "name": "python3"
  },
  "language_info": {
   "codemirror_mode": {
    "name": "ipython",
    "version": 3
   },
   "file_extension": ".py",
   "mimetype": "text/x-python",
   "name": "python",
   "nbconvert_exporter": "python",
   "pygments_lexer": "ipython3",
   "version": "3.8.10"
  },
  "orig_nbformat": 4
 },
 "nbformat": 4,
 "nbformat_minor": 2
}
