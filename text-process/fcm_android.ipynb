{
 "cells": [
  {
   "cell_type": "code",
   "execution_count": null,
   "metadata": {},
   "outputs": [],
   "source": [
    "#!pip install firebase-admin"
   ]
  },
  {
   "cell_type": "code",
   "execution_count": 1,
   "metadata": {},
   "outputs": [],
   "source": [
    "import firebase_admin\n",
    "from firebase_admin import credentials, messaging"
   ]
  },
  {
   "cell_type": "code",
   "execution_count": 2,
   "metadata": {},
   "outputs": [],
   "source": [
    "firebase_cred = credentials.Certificate(r\"D:\\\\GitHub\\\\sms\\\\secrets\\\\telerehab-7ea7a.json\")\n",
    "firebase_app = firebase_admin.initialize_app(firebase_cred)"
   ]
  },
  {
   "cell_type": "code",
   "execution_count": 8,
   "metadata": {},
   "outputs": [],
   "source": [
    "from typing import Any\n",
    "\n",
    "\n",
    "def send_to_token(registration_token, title, body, data) -> Any:\n",
    "        message = messaging.Message(\n",
    "            notification=messaging.Notification(\n",
    "                title=title,\n",
    "                body=body,\n",
    "            ),\n",
    "            data=data,\n",
    "            token=registration_token\n",
    "        )\n",
    "        response = messaging.send(message)\n",
    "        print(response)\n",
    "        return response\n",
    "\n",
    "def send_to_token_multicast(registration_tokens, title, body, data=None) -> Any:\n",
    "        # registration_tokens has to be a list\n",
    "        assert isinstance(registration_tokens, list)\n",
    "\n",
    "        message = messaging.MulticastMessage(\n",
    "            notification=messaging.Notification(\n",
    "                title=title,\n",
    "                body=body,\n",
    "            ),\n",
    "            data=data,\n",
    "            token=registration_tokens\n",
    "        )\n",
    "        response = messaging.send_multicast(message)\n",
    "        print(response)\n",
    "        # See the BatchResponse reference documentation\n",
    "        # for the contents of response.\n",
    "        return response\n",
    "\n",
    "def send_to_topic(topic, title, body, data=None) -> Any:\n",
    "        message = messaging.Message(\n",
    "            notification=messaging.Notification(\n",
    "                title=title,\n",
    "                body=body,\n",
    "            ),\n",
    "            data=data,\n",
    "            topic=topic\n",
    "        )\n",
    "        response = messaging.send(message)\n",
    "        print(response)\n",
    "        # Response is a message ID string.\n",
    "        return response\n",
    "\n",
    "def main():\n",
    "    send_to_topic(\"topics-all\", \"title\", \"body from topic\")\n"
   ]
  },
  {
   "cell_type": "code",
   "execution_count": 4,
   "metadata": {},
   "outputs": [
    {
     "name": "stdout",
     "output_type": "stream",
     "text": [
      "projects/telerehab-7ea7a/messages/6555569009435353018\n"
     ]
    }
   ],
   "source": [
    "if __name__ == \"__main__\":\n",
    "    main()\n"
   ]
  },
  {
   "cell_type": "code",
   "execution_count": 10,
   "metadata": {},
   "outputs": [
    {
     "name": "stdout",
     "output_type": "stream",
     "text": [
      "projects/telerehab-7ea7a/messages/0:1680681542954906%ed541015ed541015\n"
     ]
    },
    {
     "data": {
      "text/plain": [
       "'projects/telerehab-7ea7a/messages/0:1680681542954906%ed541015ed541015'"
      ]
     },
     "execution_count": 10,
     "metadata": {},
     "output_type": "execute_result"
    }
   ],
   "source": [
    "registration_token = \"your registered token\"\n",
    "\n",
    "title = \"testing\"\n",
    "body = \"testing for push noti\"\n",
    "\n",
    "data = {\"data\":\"testing data for push noti\"}\n",
    "send_to_token(registration_token, title, body, data=data)"
   ]
  },
  {
   "cell_type": "code",
   "execution_count": null,
   "metadata": {},
   "outputs": [],
   "source": []
  }
 ],
 "metadata": {
  "kernelspec": {
   "display_name": "base",
   "language": "python",
   "name": "python3"
  },
  "language_info": {
   "codemirror_mode": {
    "name": "ipython",
    "version": 3
   },
   "file_extension": ".py",
   "mimetype": "text/x-python",
   "name": "python",
   "nbconvert_exporter": "python",
   "pygments_lexer": "ipython3",
   "version": "3.9.13"
  },
  "orig_nbformat": 4
 },
 "nbformat": 4,
 "nbformat_minor": 2
}
